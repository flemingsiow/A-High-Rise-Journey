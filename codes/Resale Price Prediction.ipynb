{
 "cells": [
  {
   "cell_type": "code",
   "execution_count": 1,
   "metadata": {},
   "outputs": [],
   "source": [
    "%matplotlib inline\n",
    "import pandas as pd\n",
    "import numpy as np\n",
    "import matplotlib.pyplot as plt\n",
    "from sklearn import linear_model\n",
    "from sklearn.model_selection import train_test_split"
   ]
  },
  {
   "cell_type": "code",
   "execution_count": 2,
   "metadata": {},
   "outputs": [
    {
     "name": "stderr",
     "output_type": "stream",
     "text": [
      "C:\\ProgramData\\Anaconda3\\lib\\site-packages\\IPython\\core\\interactiveshell.py:3063: DtypeWarning: Columns (10,15,16) have mixed types.Specify dtype option on import or set low_memory=False.\n",
      "  interactivity=interactivity, compiler=compiler, result=result)\n"
     ]
    },
    {
     "data": {
      "text/html": [
       "<div>\n",
       "<style scoped>\n",
       "    .dataframe tbody tr th:only-of-type {\n",
       "        vertical-align: middle;\n",
       "    }\n",
       "\n",
       "    .dataframe tbody tr th {\n",
       "        vertical-align: top;\n",
       "    }\n",
       "\n",
       "    .dataframe thead th {\n",
       "        text-align: right;\n",
       "    }\n",
       "</style>\n",
       "<table border=\"1\" class=\"dataframe\">\n",
       "  <thead>\n",
       "    <tr style=\"text-align: right;\">\n",
       "      <th></th>\n",
       "      <th>ID</th>\n",
       "      <th>Address</th>\n",
       "      <th>Flat Model</th>\n",
       "      <th>Flat Type</th>\n",
       "      <th>Floor Area (sqm)</th>\n",
       "      <th>Resale Date</th>\n",
       "      <th>Remaining Lease Duration (Years)</th>\n",
       "      <th>Resale Price</th>\n",
       "      <th>Storey Range</th>\n",
       "      <th>Subzone</th>\n",
       "      <th>Postal</th>\n",
       "      <th>Latitude</th>\n",
       "      <th>Longitude</th>\n",
       "      <th>Nearest Dist (MRT)</th>\n",
       "      <th>Nearest Dist (SM)</th>\n",
       "      <th>Nearest MRT Name</th>\n",
       "      <th>Nearest SM Name</th>\n",
       "      <th>Time to SM</th>\n",
       "      <th>Time to MRT</th>\n",
       "      <th>Time to CBD</th>\n",
       "    </tr>\n",
       "  </thead>\n",
       "  <tbody>\n",
       "    <tr>\n",
       "      <th>0</th>\n",
       "      <td>1.0</td>\n",
       "      <td>100 LOR 1 TOA PAYOH</td>\n",
       "      <td>Improved</td>\n",
       "      <td>3 ROOM</td>\n",
       "      <td>68.0</td>\n",
       "      <td>2017-05-01</td>\n",
       "      <td>52</td>\n",
       "      <td>325000.0</td>\n",
       "      <td>13 TO 15</td>\n",
       "      <td>TOA PAYOH</td>\n",
       "      <td>310100</td>\n",
       "      <td>1.339564</td>\n",
       "      <td>103.848586</td>\n",
       "      <td>0.222592</td>\n",
       "      <td>0.832673</td>\n",
       "      <td>Braddell MRT Station</td>\n",
       "      <td>HDB Hub</td>\n",
       "      <td>897.0</td>\n",
       "      <td>271.0</td>\n",
       "      <td>2210.0</td>\n",
       "    </tr>\n",
       "    <tr>\n",
       "      <th>1</th>\n",
       "      <td>2.0</td>\n",
       "      <td>100 LOR 1 TOA PAYOH</td>\n",
       "      <td>Improved</td>\n",
       "      <td>3 ROOM</td>\n",
       "      <td>78.0</td>\n",
       "      <td>2017-05-01</td>\n",
       "      <td>52</td>\n",
       "      <td>330800.0</td>\n",
       "      <td>13 TO 15</td>\n",
       "      <td>TOA PAYOH</td>\n",
       "      <td>310100</td>\n",
       "      <td>1.339564</td>\n",
       "      <td>103.848586</td>\n",
       "      <td>0.222592</td>\n",
       "      <td>0.832673</td>\n",
       "      <td>Braddell MRT Station</td>\n",
       "      <td>HDB Hub</td>\n",
       "      <td>897.0</td>\n",
       "      <td>271.0</td>\n",
       "      <td>2210.0</td>\n",
       "    </tr>\n",
       "    <tr>\n",
       "      <th>2</th>\n",
       "      <td>3.0</td>\n",
       "      <td>98 LOR 1 TOA PAYOH</td>\n",
       "      <td>Improved</td>\n",
       "      <td>3 ROOM</td>\n",
       "      <td>78.0</td>\n",
       "      <td>2017-06-01</td>\n",
       "      <td>52</td>\n",
       "      <td>338000.0</td>\n",
       "      <td>13 TO 15</td>\n",
       "      <td>TOA PAYOH</td>\n",
       "      <td>310098</td>\n",
       "      <td>1.339176</td>\n",
       "      <td>103.848380</td>\n",
       "      <td>0.226729</td>\n",
       "      <td>0.786135</td>\n",
       "      <td>Braddell MRT Station</td>\n",
       "      <td>HDB Hub</td>\n",
       "      <td>843.0</td>\n",
       "      <td>312.0</td>\n",
       "      <td>1866.0</td>\n",
       "    </tr>\n",
       "  </tbody>\n",
       "</table>\n",
       "</div>"
      ],
      "text/plain": [
       "    ID              Address Flat Model Flat Type  Floor Area (sqm)  \\\n",
       "0  1.0  100 LOR 1 TOA PAYOH   Improved    3 ROOM              68.0   \n",
       "1  2.0  100 LOR 1 TOA PAYOH   Improved    3 ROOM              78.0   \n",
       "2  3.0   98 LOR 1 TOA PAYOH   Improved    3 ROOM              78.0   \n",
       "\n",
       "  Resale Date  Remaining Lease Duration (Years)  Resale Price Storey Range  \\\n",
       "0  2017-05-01                                52      325000.0     13 TO 15   \n",
       "1  2017-05-01                                52      330800.0     13 TO 15   \n",
       "2  2017-06-01                                52      338000.0     13 TO 15   \n",
       "\n",
       "     Subzone  Postal  Latitude   Longitude  Nearest Dist (MRT)  \\\n",
       "0  TOA PAYOH  310100  1.339564  103.848586            0.222592   \n",
       "1  TOA PAYOH  310100  1.339564  103.848586            0.222592   \n",
       "2  TOA PAYOH  310098  1.339176  103.848380            0.226729   \n",
       "\n",
       "   Nearest Dist (SM)      Nearest MRT Name Nearest SM Name  Time to SM  \\\n",
       "0           0.832673  Braddell MRT Station         HDB Hub       897.0   \n",
       "1           0.832673  Braddell MRT Station         HDB Hub       897.0   \n",
       "2           0.786135  Braddell MRT Station         HDB Hub       843.0   \n",
       "\n",
       "   Time to MRT  Time to CBD  \n",
       "0        271.0       2210.0  \n",
       "1        271.0       2210.0  \n",
       "2        312.0       1866.0  "
      ]
     },
     "execution_count": 2,
     "metadata": {},
     "output_type": "execute_result"
    }
   ],
   "source": [
    "housing_df = pd.read_csv('Housing Resale Dataset.csv', parse_dates=['Resale Date'])\n",
    "housing_df.head(3)"
   ]
  },
  {
   "cell_type": "code",
   "execution_count": 3,
   "metadata": {},
   "outputs": [],
   "source": [
    "# Drop null values in the ds, there were some locations the OneMap API failed to recognise\n",
    "cols = ['Floor Area (sqm)','Time to MRT','Time to SM','Time to CBD','Remaining Lease Duration (Years)']\n",
    "housing_df[cols] = housing_df[housing_df[cols] > 0][cols]\n",
    "housing_df = housing_df.dropna()"
   ]
  },
  {
   "cell_type": "code",
   "execution_count": 4,
   "metadata": {},
   "outputs": [
    {
     "data": {
      "text/plain": [
       "array([2017, 2018, 2012, 2013, 2014, 2016, 2015], dtype=int64)"
      ]
     },
     "execution_count": 4,
     "metadata": {},
     "output_type": "execute_result"
    }
   ],
   "source": [
    "# getting only the years 2012 to 2019 since those are the most relevant. 2020 will be used for prediction\n",
    "start_date = '2012-01-01'\n",
    "end_date = '2018-12-31'\n",
    "\n",
    "mask = (housing_df['Resale Date'] > start_date) & (housing_df['Resale Date'] <= end_date)\n",
    "\n",
    "housing_df = housing_df.loc[mask]\n",
    "housing_df['Resale Date'].dt.year.unique()"
   ]
  },
  {
   "cell_type": "code",
   "execution_count": 5,
   "metadata": {},
   "outputs": [
    {
     "data": {
      "text/html": [
       "<div>\n",
       "<style scoped>\n",
       "    .dataframe tbody tr th:only-of-type {\n",
       "        vertical-align: middle;\n",
       "    }\n",
       "\n",
       "    .dataframe tbody tr th {\n",
       "        vertical-align: top;\n",
       "    }\n",
       "\n",
       "    .dataframe thead th {\n",
       "        text-align: right;\n",
       "    }\n",
       "</style>\n",
       "<table border=\"1\" class=\"dataframe\">\n",
       "  <thead>\n",
       "    <tr style=\"text-align: right;\">\n",
       "      <th></th>\n",
       "      <th>Resale Price</th>\n",
       "    </tr>\n",
       "  </thead>\n",
       "  <tbody>\n",
       "    <tr>\n",
       "      <th>0</th>\n",
       "      <td>325000.0</td>\n",
       "    </tr>\n",
       "    <tr>\n",
       "      <th>1</th>\n",
       "      <td>330800.0</td>\n",
       "    </tr>\n",
       "    <tr>\n",
       "      <th>2</th>\n",
       "      <td>338000.0</td>\n",
       "    </tr>\n",
       "    <tr>\n",
       "      <th>3</th>\n",
       "      <td>315000.0</td>\n",
       "    </tr>\n",
       "    <tr>\n",
       "      <th>4</th>\n",
       "      <td>305000.0</td>\n",
       "    </tr>\n",
       "  </tbody>\n",
       "</table>\n",
       "</div>"
      ],
      "text/plain": [
       "   Resale Price\n",
       "0      325000.0\n",
       "1      330800.0\n",
       "2      338000.0\n",
       "3      315000.0\n",
       "4      305000.0"
      ]
     },
     "execution_count": 5,
     "metadata": {},
     "output_type": "execute_result"
    }
   ],
   "source": [
    "# y will be our target, the resale price of the property we want to predict\n",
    "y = housing_df[['Resale Price']]\n",
    "y.head()"
   ]
  },
  {
   "cell_type": "code",
   "execution_count": 6,
   "metadata": {},
   "outputs": [
    {
     "data": {
      "text/html": [
       "<div>\n",
       "<style scoped>\n",
       "    .dataframe tbody tr th:only-of-type {\n",
       "        vertical-align: middle;\n",
       "    }\n",
       "\n",
       "    .dataframe tbody tr th {\n",
       "        vertical-align: top;\n",
       "    }\n",
       "\n",
       "    .dataframe thead th {\n",
       "        text-align: right;\n",
       "    }\n",
       "</style>\n",
       "<table border=\"1\" class=\"dataframe\">\n",
       "  <thead>\n",
       "    <tr style=\"text-align: right;\">\n",
       "      <th></th>\n",
       "      <th>Floor Area (sqm)</th>\n",
       "      <th>Time to MRT</th>\n",
       "      <th>Time to SM</th>\n",
       "      <th>Time to CBD</th>\n",
       "      <th>Remaining Lease Duration (Years)</th>\n",
       "    </tr>\n",
       "  </thead>\n",
       "  <tbody>\n",
       "    <tr>\n",
       "      <th>0</th>\n",
       "      <td>68.0</td>\n",
       "      <td>271.0</td>\n",
       "      <td>897.0</td>\n",
       "      <td>2210.0</td>\n",
       "      <td>52</td>\n",
       "    </tr>\n",
       "    <tr>\n",
       "      <th>1</th>\n",
       "      <td>78.0</td>\n",
       "      <td>271.0</td>\n",
       "      <td>897.0</td>\n",
       "      <td>2210.0</td>\n",
       "      <td>52</td>\n",
       "    </tr>\n",
       "    <tr>\n",
       "      <th>2</th>\n",
       "      <td>78.0</td>\n",
       "      <td>312.0</td>\n",
       "      <td>843.0</td>\n",
       "      <td>1866.0</td>\n",
       "      <td>52</td>\n",
       "    </tr>\n",
       "    <tr>\n",
       "      <th>3</th>\n",
       "      <td>63.0</td>\n",
       "      <td>56.0</td>\n",
       "      <td>882.0</td>\n",
       "      <td>2210.0</td>\n",
       "      <td>52</td>\n",
       "    </tr>\n",
       "    <tr>\n",
       "      <th>4</th>\n",
       "      <td>67.0</td>\n",
       "      <td>290.0</td>\n",
       "      <td>637.0</td>\n",
       "      <td>2210.0</td>\n",
       "      <td>52</td>\n",
       "    </tr>\n",
       "  </tbody>\n",
       "</table>\n",
       "</div>"
      ],
      "text/plain": [
       "   Floor Area (sqm)  Time to MRT  Time to SM  Time to CBD  \\\n",
       "0              68.0        271.0       897.0       2210.0   \n",
       "1              78.0        271.0       897.0       2210.0   \n",
       "2              78.0        312.0       843.0       1866.0   \n",
       "3              63.0         56.0       882.0       2210.0   \n",
       "4              67.0        290.0       637.0       2210.0   \n",
       "\n",
       "   Remaining Lease Duration (Years)  \n",
       "0                                52  \n",
       "1                                52  \n",
       "2                                52  \n",
       "3                                52  \n",
       "4                                52  "
      ]
     },
     "execution_count": 6,
     "metadata": {},
     "output_type": "execute_result"
    }
   ],
   "source": [
    "# X contains all the features I plan to use to predict the resale price\n",
    "X = housing_df[['Floor Area (sqm)','Time to MRT','Time to SM','Time to CBD','Remaining Lease Duration (Years)']]\n",
    "X.head()"
   ]
  },
  {
   "cell_type": "code",
   "execution_count": 7,
   "metadata": {},
   "outputs": [],
   "source": [
    "X_train, X_test, y_train, y_test = train_test_split(X, y, test_size=0.2, random_state=21)"
   ]
  },
  {
   "cell_type": "code",
   "execution_count": 8,
   "metadata": {
    "scrolled": true
   },
   "outputs": [
    {
     "name": "stdout",
     "output_type": "stream",
     "text": [
      "(57698, 5) (57698, 1)\n",
      "(14425, 5) (14425, 1)\n"
     ]
    }
   ],
   "source": [
    "# check shape to see if it matches\n",
    "print (X_train.shape, y_train.shape)\n",
    "print (X_test.shape, y_test.shape)"
   ]
  },
  {
   "cell_type": "code",
   "execution_count": 20,
   "metadata": {},
   "outputs": [],
   "source": [
    "from sklearn import ensemble\n",
    "clf = ensemble.GradientBoostingRegressor(n_estimators = 400, max_depth=5, min_samples_split = 2, learning_rate=0.1, \n",
    "                                          loss = 'ls')"
   ]
  },
  {
   "cell_type": "code",
   "execution_count": 21,
   "metadata": {},
   "outputs": [
    {
     "name": "stderr",
     "output_type": "stream",
     "text": [
      "C:\\Users\\Fleming Siow\\AppData\\Roaming\\Python\\Python37\\site-packages\\sklearn\\utils\\validation.py:72: DataConversionWarning: A column-vector y was passed when a 1d array was expected. Please change the shape of y to (n_samples, ), for example using ravel().\n",
      "  return f(**kwargs)\n"
     ]
    },
    {
     "data": {
      "text/plain": [
       "GradientBoostingRegressor(max_depth=5, n_estimators=400)"
      ]
     },
     "execution_count": 21,
     "metadata": {},
     "output_type": "execute_result"
    }
   ],
   "source": [
    "clf.fit(X_train, y_train)"
   ]
  },
  {
   "cell_type": "code",
   "execution_count": 22,
   "metadata": {},
   "outputs": [
    {
     "data": {
      "text/plain": [
       "array([342270.23191751, 336426.00073997, 627039.64794972, ...,\n",
       "       292552.32464151, 363922.67601286, 611505.80363767])"
      ]
     },
     "execution_count": 22,
     "metadata": {},
     "output_type": "execute_result"
    }
   ],
   "source": [
    "pred = clf.predict(X_test)\n",
    "pred"
   ]
  },
  {
   "cell_type": "code",
   "execution_count": 23,
   "metadata": {},
   "outputs": [
    {
     "data": {
      "text/plain": [
       "0.9251707114606229"
      ]
     },
     "execution_count": 23,
     "metadata": {},
     "output_type": "execute_result"
    }
   ],
   "source": [
    "clf.score(X_test,y_test)"
   ]
  },
  {
   "cell_type": "code",
   "execution_count": 24,
   "metadata": {},
   "outputs": [],
   "source": [
    "pred_df = pd.read_csv('Prediction.csv', parse_dates=['Resale Date'])\n",
    "cols = ['Floor Area (sqm)','Time to MRT','Time to SM','Time to CBD','Remaining Lease Duration (Years)']\n",
    "pred_df[cols] = pred_df[pred_df[cols] > 0][cols]\n",
    "pred_df = pred_df.dropna()\n",
    "\n",
    "X = housing_df[['Floor Area (sqm)','Time to MRT','Time to SM','Time to CBD','Remaining Lease Duration (Years)']]\n",
    "pred = clf.predict(X)\n",
    "\n",
    "pred_result = pd.DataFrame(index=np.arange(len(pred)))\n",
    "\n",
    "for idx, val in enumerate(pred):\n",
    "    try:\n",
    "        pred_result.loc[pred_result.index[idx], 'house_id'] = pred_df.iloc[idx]['ID']\n",
    "        pred_result.loc[pred_result.index[idx], 'predicted_prices'] = val\n",
    "    except:\n",
    "        pass\n",
    "\n",
    "pred_result.to_csv('pred_results.csv', index=False, header=True)"
   ]
  },
  {
   "cell_type": "code",
   "execution_count": 80,
   "metadata": {},
   "outputs": [
    {
     "ename": "ResponseError",
     "evalue": "(400) Error when changing TabPy state: target must be a string. {}",
     "output_type": "error",
     "traceback": [
      "\u001b[1;31m---------------------------------------------------------------------------\u001b[0m",
      "\u001b[1;31mResponseError\u001b[0m                             Traceback (most recent call last)",
      "\u001b[1;32m<ipython-input-80-c9b4faea17c9>\u001b[0m in \u001b[0;36m<module>\u001b[1;34m\u001b[0m\n\u001b[0;32m     21\u001b[0m \u001b[0mclient\u001b[0m \u001b[1;33m=\u001b[0m \u001b[0mtabpy_client\u001b[0m\u001b[1;33m.\u001b[0m\u001b[0mClient\u001b[0m\u001b[1;33m(\u001b[0m\u001b[1;34m'http://localhost:9004/'\u001b[0m\u001b[1;33m)\u001b[0m\u001b[1;33m\u001b[0m\u001b[1;33m\u001b[0m\u001b[0m\n\u001b[0;32m     22\u001b[0m client.deploy('housing_resale_predictor', housing_resale_predictor,\"Predicts the resale prices of Singapore's residential\\\n\u001b[1;32m---> 23\u001b[1;33m                 properties\", override = True)\n\u001b[0m",
      "\u001b[1;32mC:\\ProgramData\\Anaconda3\\lib\\site-packages\\tabpy_client\\client.py\u001b[0m in \u001b[0;36mdeploy\u001b[1;34m(self, name, obj, description, schema, override)\u001b[0m\n\u001b[0;32m    328\u001b[0m             \u001b[0mself\u001b[0m\u001b[1;33m.\u001b[0m\u001b[0m_service\u001b[0m\u001b[1;33m.\u001b[0m\u001b[0madd_endpoint\u001b[0m\u001b[1;33m(\u001b[0m\u001b[0m_Endpoint\u001b[0m\u001b[1;33m(\u001b[0m\u001b[1;33m**\u001b[0m\u001b[0mobj\u001b[0m\u001b[1;33m)\u001b[0m\u001b[1;33m)\u001b[0m\u001b[1;33m\u001b[0m\u001b[1;33m\u001b[0m\u001b[0m\n\u001b[0;32m    329\u001b[0m         \u001b[1;32melse\u001b[0m\u001b[1;33m:\u001b[0m\u001b[1;33m\u001b[0m\u001b[1;33m\u001b[0m\u001b[0m\n\u001b[1;32m--> 330\u001b[1;33m             \u001b[0mself\u001b[0m\u001b[1;33m.\u001b[0m\u001b[0m_service\u001b[0m\u001b[1;33m.\u001b[0m\u001b[0mset_endpoint\u001b[0m\u001b[1;33m(\u001b[0m\u001b[0m_Endpoint\u001b[0m\u001b[1;33m(\u001b[0m\u001b[1;33m**\u001b[0m\u001b[0mobj\u001b[0m\u001b[1;33m)\u001b[0m\u001b[1;33m)\u001b[0m\u001b[1;33m\u001b[0m\u001b[1;33m\u001b[0m\u001b[0m\n\u001b[0m\u001b[0;32m    331\u001b[0m \u001b[1;33m\u001b[0m\u001b[0m\n\u001b[0;32m    332\u001b[0m         \u001b[0mself\u001b[0m\u001b[1;33m.\u001b[0m\u001b[0m_wait_for_endpoint_deployment\u001b[0m\u001b[1;33m(\u001b[0m\u001b[0mobj\u001b[0m\u001b[1;33m[\u001b[0m\u001b[1;34m'name'\u001b[0m\u001b[1;33m]\u001b[0m\u001b[1;33m,\u001b[0m \u001b[0mobj\u001b[0m\u001b[1;33m[\u001b[0m\u001b[1;34m'version'\u001b[0m\u001b[1;33m]\u001b[0m\u001b[1;33m)\u001b[0m\u001b[1;33m\u001b[0m\u001b[1;33m\u001b[0m\u001b[0m\n",
      "\u001b[1;32mC:\\ProgramData\\Anaconda3\\lib\\site-packages\\tabpy_client\\rest_client.py\u001b[0m in \u001b[0;36mset_endpoint\u001b[1;34m(self, endpoint)\u001b[0m\n\u001b[0;32m    231\u001b[0m         \"\"\"\n\u001b[0;32m    232\u001b[0m         return self.service_client.PUT('endpoints/'+endpoint.name,\n\u001b[1;32m--> 233\u001b[1;33m                 endpoint.to_json())\n\u001b[0m\u001b[0;32m    234\u001b[0m \u001b[1;33m\u001b[0m\u001b[0m\n\u001b[0;32m    235\u001b[0m     \u001b[1;32mdef\u001b[0m \u001b[0mremove_endpoint\u001b[0m\u001b[1;33m(\u001b[0m\u001b[0mself\u001b[0m\u001b[1;33m,\u001b[0m \u001b[0mendpoint_name\u001b[0m\u001b[1;33m)\u001b[0m\u001b[1;33m:\u001b[0m\u001b[1;33m\u001b[0m\u001b[1;33m\u001b[0m\u001b[0m\n",
      "\u001b[1;32mC:\\ProgramData\\Anaconda3\\lib\\site-packages\\tabpy_client\\rest.py\u001b[0m in \u001b[0;36mPUT\u001b[1;34m(self, url, data, timeout)\u001b[0m\n\u001b[0;32m    174\u001b[0m     \u001b[1;32mdef\u001b[0m \u001b[0mPUT\u001b[0m\u001b[1;33m(\u001b[0m\u001b[0mself\u001b[0m\u001b[1;33m,\u001b[0m \u001b[0murl\u001b[0m\u001b[1;33m,\u001b[0m \u001b[0mdata\u001b[0m\u001b[1;33m=\u001b[0m\u001b[1;32mNone\u001b[0m\u001b[1;33m,\u001b[0m \u001b[0mtimeout\u001b[0m\u001b[1;33m=\u001b[0m\u001b[1;32mNone\u001b[0m\u001b[1;33m)\u001b[0m\u001b[1;33m:\u001b[0m\u001b[1;33m\u001b[0m\u001b[1;33m\u001b[0m\u001b[0m\n\u001b[0;32m    175\u001b[0m         \u001b[1;34m\"\"\"Prepends self.endpoint to the url and issues a PUT request.\"\"\"\u001b[0m\u001b[1;33m\u001b[0m\u001b[1;33m\u001b[0m\u001b[0m\n\u001b[1;32m--> 176\u001b[1;33m         \u001b[1;32mreturn\u001b[0m \u001b[0mself\u001b[0m\u001b[1;33m.\u001b[0m\u001b[0mnetwork_wrapper\u001b[0m\u001b[1;33m.\u001b[0m\u001b[0mPUT\u001b[0m\u001b[1;33m(\u001b[0m\u001b[0mself\u001b[0m\u001b[1;33m.\u001b[0m\u001b[0mendpoint\u001b[0m \u001b[1;33m+\u001b[0m \u001b[0murl\u001b[0m\u001b[1;33m,\u001b[0m \u001b[0mdata\u001b[0m\u001b[1;33m,\u001b[0m \u001b[0mtimeout\u001b[0m\u001b[1;33m)\u001b[0m\u001b[1;33m\u001b[0m\u001b[1;33m\u001b[0m\u001b[0m\n\u001b[0m\u001b[0;32m    177\u001b[0m \u001b[1;33m\u001b[0m\u001b[0m\n\u001b[0;32m    178\u001b[0m     \u001b[1;32mdef\u001b[0m \u001b[0mDELETE\u001b[0m\u001b[1;33m(\u001b[0m\u001b[0mself\u001b[0m\u001b[1;33m,\u001b[0m \u001b[0murl\u001b[0m\u001b[1;33m,\u001b[0m \u001b[0mdata\u001b[0m\u001b[1;33m=\u001b[0m\u001b[1;32mNone\u001b[0m\u001b[1;33m,\u001b[0m \u001b[0mtimeout\u001b[0m\u001b[1;33m=\u001b[0m\u001b[1;32mNone\u001b[0m\u001b[1;33m)\u001b[0m\u001b[1;33m:\u001b[0m\u001b[1;33m\u001b[0m\u001b[1;33m\u001b[0m\u001b[0m\n",
      "\u001b[1;32mC:\\ProgramData\\Anaconda3\\lib\\site-packages\\tabpy_client\\rest.py\u001b[0m in \u001b[0;36mPUT\u001b[1;34m(self, url, data, timeout)\u001b[0m\n\u001b[0;32m    124\u001b[0m                 timeout=timeout)\n\u001b[0;32m    125\u001b[0m         \u001b[1;32mif\u001b[0m \u001b[0mresponse\u001b[0m\u001b[1;33m.\u001b[0m\u001b[0mstatus_code\u001b[0m \u001b[1;33m!=\u001b[0m \u001b[1;36m200\u001b[0m\u001b[1;33m:\u001b[0m\u001b[1;33m\u001b[0m\u001b[1;33m\u001b[0m\u001b[0m\n\u001b[1;32m--> 126\u001b[1;33m             \u001b[0mself\u001b[0m\u001b[1;33m.\u001b[0m\u001b[0mraise_error\u001b[0m\u001b[1;33m(\u001b[0m\u001b[0mresponse\u001b[0m\u001b[1;33m)\u001b[0m\u001b[1;33m\u001b[0m\u001b[1;33m\u001b[0m\u001b[0m\n\u001b[0m\u001b[0;32m    127\u001b[0m \u001b[1;33m\u001b[0m\u001b[0m\n\u001b[0;32m    128\u001b[0m         \u001b[1;32mreturn\u001b[0m \u001b[0mresponse\u001b[0m\u001b[1;33m.\u001b[0m\u001b[0mjson\u001b[0m\u001b[1;33m(\u001b[0m\u001b[1;33m)\u001b[0m\u001b[1;33m\u001b[0m\u001b[1;33m\u001b[0m\u001b[0m\n",
      "\u001b[1;32mC:\\ProgramData\\Anaconda3\\lib\\site-packages\\tabpy_client\\rest.py\u001b[0m in \u001b[0;36mraise_error\u001b[1;34m(self, response)\u001b[0m\n\u001b[0;32m     61\u001b[0m             response.text)\n\u001b[0;32m     62\u001b[0m \u001b[1;33m\u001b[0m\u001b[0m\n\u001b[1;32m---> 63\u001b[1;33m         \u001b[1;32mraise\u001b[0m \u001b[0mResponseError\u001b[0m\u001b[1;33m(\u001b[0m\u001b[0mresponse\u001b[0m\u001b[1;33m)\u001b[0m\u001b[1;33m\u001b[0m\u001b[1;33m\u001b[0m\u001b[0m\n\u001b[0m\u001b[0;32m     64\u001b[0m \u001b[1;33m\u001b[0m\u001b[0m\n\u001b[0;32m     65\u001b[0m     \u001b[1;32mdef\u001b[0m \u001b[0m_remove_nones\u001b[0m\u001b[1;33m(\u001b[0m\u001b[0mself\u001b[0m\u001b[1;33m,\u001b[0m \u001b[0mdata\u001b[0m\u001b[1;33m)\u001b[0m\u001b[1;33m:\u001b[0m\u001b[1;33m\u001b[0m\u001b[1;33m\u001b[0m\u001b[0m\n",
      "\u001b[1;31mResponseError\u001b[0m: (400) Error when changing TabPy state: target must be a string. {}"
     ]
    }
   ],
   "source": [
    "import tabpy_client\n",
    "from tabpy.tabpy_tools.client import Client\n",
    "\n",
    "def housing_resale_predictor( _arg1, _arg2, _arg3, _arg4,_arg5, _arg6):\n",
    "    import pandas as pd\n",
    "\n",
    "    # Map data in a dictionary\n",
    "    row = {'area': _arg1,\n",
    "           'time2mrt': _arg2,\n",
    "           'time2sm': _arg3,\n",
    "           'time2cbd': _arg4,\n",
    "           'lease_duration': _arg5 }\n",
    "    \n",
    "    # Convert it into a dataframe\n",
    "    housing_data = pd.DataFrame(data = row, index=[0])\n",
    "\n",
    "    # predicting\n",
    "    pred = clf.predict(housing_data)\n",
    "    return [resale_price[1] for resale_price in pred]\n",
    "\n",
    "client = tabpy_client.Client('http://localhost:9004/')\n",
    "client.deploy('housing_resale_predictor', housing_resale_predictor,\"Predicts the resale prices of Singapore's residential\\\n",
    "                properties\", override = True)"
   ]
  }
 ],
 "metadata": {
  "kernelspec": {
   "display_name": "Python 3",
   "language": "python",
   "name": "python3"
  },
  "language_info": {
   "codemirror_mode": {
    "name": "ipython",
    "version": 3
   },
   "file_extension": ".py",
   "mimetype": "text/x-python",
   "name": "python",
   "nbconvert_exporter": "python",
   "pygments_lexer": "ipython3",
   "version": "3.7.6"
  }
 },
 "nbformat": 4,
 "nbformat_minor": 4
}
